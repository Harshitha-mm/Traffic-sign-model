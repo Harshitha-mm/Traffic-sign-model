{
 "cells": [
  {
   "cell_type": "markdown",
   "id": "15247c68",
   "metadata": {},
   "source": [
    "Importing Libraries\n"
   ]
  },
  {
   "cell_type": "code",
   "execution_count": 2,
   "id": "0274bdf5",
   "metadata": {},
   "outputs": [],
   "source": [
    "import numpy as np \n",
    "import pandas as pd \n",
    "import matplotlib.pyplot as plt\n",
    "import cv2\n",
    "import tensorflow as tf\n",
    "from PIL import Image\n",
    "import os\n",
    "os.chdir('C:/Users/prajw/Trial4')\n",
    "from sklearn.model_selection import train_test_split\n",
    "from keras.utils import to_categorical\n",
    "from keras.models import Sequential, load_model\n",
    "from keras.layers import Conv2D, MaxPool2D, Dense, Flatten, Dropout"
   ]
  },
  {
   "cell_type": "code",
   "execution_count": 3,
   "id": "2419f4b4",
   "metadata": {},
   "outputs": [],
   "source": [
    "data = []\n",
    "labels = []\n",
    "# We have 43 Classes\n",
    "classes = 43\n",
    "cur_path = os.getcwd()"
   ]
  },
  {
   "cell_type": "code",
   "execution_count": 4,
   "id": "5fb65eef",
   "metadata": {},
   "outputs": [
    {
     "data": {
      "text/plain": [
       "'C:\\\\Users\\\\prajw\\\\Trial4'"
      ]
     },
     "execution_count": 4,
     "metadata": {},
     "output_type": "execute_result"
    }
   ],
   "source": [
    "cur_path"
   ]
  },
  {
   "cell_type": "code",
   "execution_count": 5,
   "id": "22dabea8",
   "metadata": {},
   "outputs": [],
   "source": [
    "for i in range(classes):\n",
    "    path = os.path.join(cur_path,'train',str(i))\n",
    "    images = os.listdir(path)\n",
    "    for a in images:\n",
    "        try:\n",
    "            image = Image.open(path + '\\\\'+ a)\n",
    "            image = image.resize((30,30))\n",
    "            image = np.array(image)\n",
    "            data.append(image)\n",
    "            labels.append(i)\n",
    "        except Exception as e:\n",
    "            print(e)"
   ]
  },
  {
   "cell_type": "code",
   "execution_count": 6,
   "id": "dee184be",
   "metadata": {},
   "outputs": [],
   "source": [
    "data = np.array(data)\n",
    "labels = np.array(labels)"
   ]
  },
  {
   "cell_type": "code",
   "execution_count": 7,
   "id": "49544576",
   "metadata": {},
   "outputs": [
    {
     "ename": "FileExistsError",
     "evalue": "[WinError 183] Cannot create a file when that file already exists: 'training'",
     "output_type": "error",
     "traceback": [
      "\u001b[1;31m---------------------------------------------------------------------------\u001b[0m",
      "\u001b[1;31mFileExistsError\u001b[0m                           Traceback (most recent call last)",
      "Cell \u001b[1;32mIn[7], line 1\u001b[0m\n\u001b[1;32m----> 1\u001b[0m \u001b[43mos\u001b[49m\u001b[38;5;241;43m.\u001b[39;49m\u001b[43mmkdir\u001b[49m\u001b[43m(\u001b[49m\u001b[38;5;124;43m'\u001b[39;49m\u001b[38;5;124;43mtraining\u001b[39;49m\u001b[38;5;124;43m'\u001b[39;49m\u001b[43m)\u001b[49m\n",
      "\u001b[1;31mFileExistsError\u001b[0m: [WinError 183] Cannot create a file when that file already exists: 'training'"
     ]
    }
   ],
   "source": [
    "os.mkdir('training')"
   ]
  },
  {
   "cell_type": "code",
   "execution_count": 8,
   "id": "eb8fff3f",
   "metadata": {},
   "outputs": [],
   "source": [
    "np.save('./training/data',data)\n",
    "np.save('./training/target',labels)"
   ]
  },
  {
   "cell_type": "code",
   "execution_count": 9,
   "id": "a0669421",
   "metadata": {},
   "outputs": [],
   "source": [
    "data=np.load('./training/data.npy')\n",
    "labels=np.load('./training/target.npy')"
   ]
  },
  {
   "cell_type": "code",
   "execution_count": 10,
   "id": "376b8a09",
   "metadata": {},
   "outputs": [
    {
     "name": "stdout",
     "output_type": "stream",
     "text": [
      "(39209, 30, 30, 3) (39209,)\n"
     ]
    }
   ],
   "source": [
    "print(data.shape, labels.shape)"
   ]
  },
  {
   "cell_type": "code",
   "execution_count": 11,
   "id": "aac170b4",
   "metadata": {},
   "outputs": [],
   "source": [
    "X_train, X_test, y_train, y_test = train_test_split(data, labels, test_size=0.2, random_state=0)"
   ]
  },
  {
   "cell_type": "code",
   "execution_count": 12,
   "id": "196465df",
   "metadata": {},
   "outputs": [
    {
     "name": "stdout",
     "output_type": "stream",
     "text": [
      "(31367, 30, 30, 3) (7842, 30, 30, 3) (31367,) (7842,)\n"
     ]
    }
   ],
   "source": [
    "print(X_train.shape, X_test.shape, y_train.shape, y_test.shape)"
   ]
  },
  {
   "cell_type": "code",
   "execution_count": 12,
   "id": "fc1e5fba",
   "metadata": {},
   "outputs": [],
   "source": [
    "y_train = to_categorical(y_train, 43)\n",
    "y_test = to_categorical(y_test, 43)"
   ]
  },
  {
   "cell_type": "code",
   "execution_count": 13,
   "id": "b9fddad9",
   "metadata": {},
   "outputs": [],
   "source": [
    "model = Sequential()\n",
    "model.add(Conv2D(filters=32, kernel_size=(5,5), activation='relu', input_shape=X_train.shape[1:]))\n",
    "model.add(Conv2D(filters=32, kernel_size=(5,5), activation='relu'))\n",
    "model.add(MaxPool2D(pool_size=(2, 2)))\n",
    "model.add(Dropout(rate=0.25))\n",
    "model.add(Conv2D(filters=64, kernel_size=(3, 3), activation='relu'))\n",
    "model.add(Conv2D(filters=64, kernel_size=(3, 3), activation='relu'))\n",
    "model.add(MaxPool2D(pool_size=(2, 2)))\n",
    "model.add(Dropout(rate=0.25))\n",
    "model.add(Flatten())\n",
    "model.add(Dense(256, activation='relu'))\n",
    "model.add(Dropout(rate=0.5))\n",
    "# We have 43 classes that's why we have defined 43 in the dense\n",
    "model.add(Dense(43, activation='softmax'))"
   ]
  },
  {
   "cell_type": "code",
   "execution_count": 15,
   "id": "d7a8b647",
   "metadata": {},
   "outputs": [],
   "source": [
    "#Compilation of the model\n",
    "model.compile(loss='categorical_crossentropy', optimizer='adam', metrics=['accuracy'])"
   ]
  },
  {
   "cell_type": "code",
   "execution_count": 15,
   "id": "56846947",
   "metadata": {},
   "outputs": [
    {
     "name": "stdout",
     "output_type": "stream",
     "text": [
      "Epoch 1/35\n",
      "981/981 [==============================] - 45s 45ms/step - loss: 1.6300 - accuracy: 0.5954 - val_loss: 0.2906 - val_accuracy: 0.9264\n",
      "Epoch 2/35\n",
      "981/981 [==============================] - 44s 45ms/step - loss: 0.4153 - accuracy: 0.8876 - val_loss: 0.1114 - val_accuracy: 0.9765\n",
      "Epoch 3/35\n",
      "981/981 [==============================] - 45s 45ms/step - loss: 0.2725 - accuracy: 0.9276 - val_loss: 0.0853 - val_accuracy: 0.9779\n",
      "Epoch 4/35\n",
      "981/981 [==============================] - 45s 46ms/step - loss: 0.2299 - accuracy: 0.9407 - val_loss: 0.0789 - val_accuracy: 0.9818\n",
      "Epoch 5/35\n",
      "981/981 [==============================] - 44s 45ms/step - loss: 0.2061 - accuracy: 0.9484 - val_loss: 0.0638 - val_accuracy: 0.9850\n",
      "Epoch 6/35\n",
      "981/981 [==============================] - 44s 45ms/step - loss: 0.2381 - accuracy: 0.9394 - val_loss: 0.2970 - val_accuracy: 0.9244\n",
      "Epoch 7/35\n",
      "981/981 [==============================] - 45s 46ms/step - loss: 0.1739 - accuracy: 0.9548 - val_loss: 0.0628 - val_accuracy: 0.9852\n",
      "Epoch 8/35\n",
      "981/981 [==============================] - 45s 46ms/step - loss: 0.1918 - accuracy: 0.9523 - val_loss: 0.0480 - val_accuracy: 0.9894\n",
      "Epoch 9/35\n",
      "981/981 [==============================] - 44s 45ms/step - loss: 0.1578 - accuracy: 0.9609 - val_loss: 0.0686 - val_accuracy: 0.9815\n",
      "Epoch 10/35\n",
      "981/981 [==============================] - 45s 46ms/step - loss: 0.1819 - accuracy: 0.9550 - val_loss: 0.0639 - val_accuracy: 0.9874\n",
      "Epoch 11/35\n",
      "981/981 [==============================] - 44s 45ms/step - loss: 0.1888 - accuracy: 0.9573 - val_loss: 0.1091 - val_accuracy: 0.9748\n",
      "Epoch 12/35\n",
      "981/981 [==============================] - 44s 45ms/step - loss: 0.1765 - accuracy: 0.9597 - val_loss: 0.0508 - val_accuracy: 0.9897\n",
      "Epoch 13/35\n",
      "981/981 [==============================] - 44s 45ms/step - loss: 0.1967 - accuracy: 0.9561 - val_loss: 0.0493 - val_accuracy: 0.9901\n",
      "Epoch 14/35\n",
      "981/981 [==============================] - 44s 45ms/step - loss: 0.2246 - accuracy: 0.9502 - val_loss: 0.0674 - val_accuracy: 0.9851\n",
      "Epoch 15/35\n",
      "981/981 [==============================] - 44s 45ms/step - loss: 0.1557 - accuracy: 0.9651 - val_loss: 0.0594 - val_accuracy: 0.9876\n",
      "Epoch 16/35\n",
      "981/981 [==============================] - 45s 46ms/step - loss: 0.1683 - accuracy: 0.9611 - val_loss: 0.0544 - val_accuracy: 0.9894\n",
      "Epoch 17/35\n",
      "981/981 [==============================] - 45s 46ms/step - loss: 0.2153 - accuracy: 0.9533 - val_loss: 0.0836 - val_accuracy: 0.9816\n",
      "Epoch 18/35\n",
      "981/981 [==============================] - 45s 46ms/step - loss: 0.1816 - accuracy: 0.9591 - val_loss: 0.0568 - val_accuracy: 0.9913\n",
      "Epoch 19/35\n",
      "981/981 [==============================] - 45s 46ms/step - loss: 0.1699 - accuracy: 0.9628 - val_loss: 0.0499 - val_accuracy: 0.9909\n",
      "Epoch 20/35\n",
      "981/981 [==============================] - 45s 46ms/step - loss: 0.1916 - accuracy: 0.9564 - val_loss: 0.0552 - val_accuracy: 0.9902\n",
      "Epoch 21/35\n",
      "981/981 [==============================] - 45s 46ms/step - loss: 0.1776 - accuracy: 0.9613 - val_loss: 0.1460 - val_accuracy: 0.9666\n",
      "Epoch 22/35\n",
      "981/981 [==============================] - 45s 46ms/step - loss: 0.2171 - accuracy: 0.9538 - val_loss: 0.0759 - val_accuracy: 0.9816\n",
      "Epoch 23/35\n",
      "981/981 [==============================] - 45s 46ms/step - loss: 0.1718 - accuracy: 0.9619 - val_loss: 0.1351 - val_accuracy: 0.9677\n",
      "Epoch 24/35\n",
      "981/981 [==============================] - 45s 46ms/step - loss: 0.1799 - accuracy: 0.9622 - val_loss: 0.0562 - val_accuracy: 0.9888\n",
      "Epoch 25/35\n",
      "981/981 [==============================] - 45s 46ms/step - loss: 0.1759 - accuracy: 0.9625 - val_loss: 0.0426 - val_accuracy: 0.9915\n",
      "Epoch 26/35\n",
      "981/981 [==============================] - 45s 46ms/step - loss: 0.1706 - accuracy: 0.9642 - val_loss: 0.0620 - val_accuracy: 0.9907\n",
      "Epoch 27/35\n",
      "981/981 [==============================] - 44s 45ms/step - loss: 0.1716 - accuracy: 0.9626 - val_loss: 0.0728 - val_accuracy: 0.9820\n",
      "Epoch 28/35\n",
      "981/981 [==============================] - 42s 43ms/step - loss: 0.2218 - accuracy: 0.9535 - val_loss: 0.0574 - val_accuracy: 0.9871\n",
      "Epoch 29/35\n",
      "981/981 [==============================] - 41s 42ms/step - loss: 0.1769 - accuracy: 0.9632 - val_loss: 0.0389 - val_accuracy: 0.9934\n",
      "Epoch 30/35\n",
      "981/981 [==============================] - 42s 42ms/step - loss: 0.1815 - accuracy: 0.9616 - val_loss: 0.0548 - val_accuracy: 0.9880\n",
      "Epoch 31/35\n",
      "981/981 [==============================] - 41s 42ms/step - loss: 0.1595 - accuracy: 0.9667 - val_loss: 0.0476 - val_accuracy: 0.9909\n",
      "Epoch 32/35\n",
      "981/981 [==============================] - 41s 42ms/step - loss: 0.1952 - accuracy: 0.9596 - val_loss: 0.0539 - val_accuracy: 0.9894\n",
      "Epoch 33/35\n",
      "981/981 [==============================] - 41s 42ms/step - loss: 0.1857 - accuracy: 0.9634 - val_loss: 0.0581 - val_accuracy: 0.9893\n",
      "Epoch 34/35\n",
      "981/981 [==============================] - 41s 42ms/step - loss: 0.1988 - accuracy: 0.9605 - val_loss: 0.0474 - val_accuracy: 0.9909\n",
      "Epoch 35/35\n",
      "981/981 [==============================] - 47s 48ms/step - loss: 0.2031 - accuracy: 0.9601 - val_loss: 0.0459 - val_accuracy: 0.9917\n"
     ]
    }
   ],
   "source": [
    "epochs = 35\n",
    "history = model.fit(X_train, y_train, batch_size=32, epochs=epochs, validation_data=(X_test, y_test))"
   ]
  },
  {
   "cell_type": "code",
   "execution_count": 16,
   "id": "bd1471ec",
   "metadata": {},
   "outputs": [
    {
     "data": {
      "image/png": "[encoded data removed]",
      "text/plain": [
       "<Figure size 640x480 with 1 Axes>"
      ]
     },
     "metadata": {},
     "output_type": "display_data"
    }
   ],
   "source": [
    "# accuracy \n",
    "plt.figure(0)\n",
    "plt.plot(history.history['accuracy'], label='training accuracy')\n",
    "plt.plot(history.history['val_accuracy'], label='val accuracy')\n",
    "plt.title('Accuracy')\n",
    "plt.xlabel('epochs')\n",
    "plt.ylabel('accuracy')\n",
    "plt.legend()\n",
    "plt.show()"
   ]
  },
  {
   "cell_type": "code",
   "execution_count": 17,
   "id": "5fa71a17",
   "metadata": {},
   "outputs": [
    {
     "data": {
      "image/png": "[encoded data removed]",
      "text/plain": [
       "<Figure size 640x480 with 1 Axes>"
      ]
     },
     "metadata": {},
     "output_type": "display_data"
    }
   ],
   "source": [
    "# Loss\n",
    "plt.plot(history.history['loss'], label='training loss')\n",
    "plt.plot(history.history['val_loss'], label='val loss')\n",
    "plt.title('Loss')\n",
    "plt.xlabel('epochs')\n",
    "plt.ylabel('loss')\n",
    "plt.legend()\n",
    "plt.show()"
   ]
  },
  {
   "cell_type": "code",
   "execution_count": 16,
   "id": "27bd8d9b",
   "metadata": {},
   "outputs": [],
   "source": [
    "def testing(testcsv):\n",
    "    y_test = pd.read_csv(testcsv)\n",
    "    label = y_test[\"ClassId\"].values\n",
    "    imgs = y_test[\"Path\"].values\n",
    "    data=[]\n",
    "    for img in imgs:\n",
    "        image = Image.open(img)\n",
    "        image = image.resize((30,30))\n",
    "        data.append(np.array(image))\n",
    "    X_test=np.array(data)\n",
    "    return X_test,label"
   ]
  },
  {
   "cell_type": "code",
   "execution_count": 17,
   "id": "fd13814d",
   "metadata": {},
   "outputs": [],
   "source": [
    "X_test, label = testing('Test.csv')"
   ]
  },
  {
   "cell_type": "code",
   "execution_count": 18,
   "id": "990bfaeb",
   "metadata": {},
   "outputs": [
    {
     "name": "stdout",
     "output_type": "stream",
     "text": [
      "395/395 [==============================] - 3s 8ms/step\n"
     ]
    }
   ],
   "source": [
    "Y_pred = model.predict(X_test)\n",
    "Y_pred_classes = Y_pred.argmax(axis=-1)\n"
   ]
  },
  {
   "cell_type": "code",
   "execution_count": 21,
   "id": "3fc76964",
   "metadata": {},
   "outputs": [
    {
     "name": "stdout",
     "output_type": "stream",
     "text": [
      "0.9657957244655582\n"
     ]
    }
   ],
   "source": [
    "from sklearn.metrics import accuracy_score\n",
    "print(accuracy_score(label, Y_pred_classes))"
   ]
  },
  {
   "cell_type": "code",
   "execution_count": 22,
   "id": "814a50f2",
   "metadata": {},
   "outputs": [],
   "source": [
    "model.save(\"./training/TSR.h5\")"
   ]
  },
  {
   "cell_type": "code",
   "execution_count": 19,
   "id": "f235fb58",
   "metadata": {},
   "outputs": [],
   "source": [
    "import os\n",
    "os.chdir(r'D:\\Traffic_Sign_Recognition')\n",
    "from keras.models import load_model\n",
    "model = load_model('./training/TSR.h5')"
   ]
  },
  {
   "cell_type": "code",
   "execution_count": 20,
   "id": "eae93d7b",
   "metadata": {},
   "outputs": [],
   "source": [
    "# Classes of trafic signs\n",
    "classes = { 0:'Speed limit (20km/h)',\n",
    "            1:'Speed limit (30km/h)', \n",
    "            2:'Speed limit (50km/h)', \n",
    "            3:'Speed limit (60km/h)', \n",
    "            4:'Speed limit (70km/h)', \n",
    "            5:'Speed limit (80km/h)', \n",
    "            6:'End of speed limit (80km/h)', \n",
    "            7:'Speed limit (100km/h)', \n",
    "            8:'Speed limit (120km/h)', \n",
    "            9:'No passing', \n",
    "            10:'No passing veh over 3.5 tons', \n",
    "            11:'Right-of-way at intersection', \n",
    "            12:'Priority road', \n",
    "            13:'Yield', \n",
    "            14:'Stop', \n",
    "            15:'No vehicles', \n",
    "            16:'Veh > 3.5 tons prohibited', \n",
    "            17:'No entry', \n",
    "            18:'General caution', \n",
    "            19:'Dangerous curve left', \n",
    "            20:'Dangerous curve right', \n",
    "            21:'Double curve', \n",
    "            22:'Bumpy road', \n",
    "            23:'Slippery road', \n",
    "            24:'Road narrows on the right', \n",
    "            25:'Road work', \n",
    "            26:'Traffic signals', \n",
    "            27:'Pedestrians', \n",
    "            28:'Children crossing', \n",
    "            29:'Bicycles crossing', \n",
    "            30:'Beware of ice/snow',\n",
    "            31:'Wild animals crossing', \n",
    "            32:'End speed + passing limits', \n",
    "            33:'Turn right ahead', \n",
    "            34:'Turn left ahead', \n",
    "            35:'Ahead only', \n",
    "            36:'Go straight or right', \n",
    "            37:'Go straight or left', \n",
    "            38:'Keep right', \n",
    "            39:'Keep left', \n",
    "            40:'Roundabout mandatory', \n",
    "            41:'End of no passing', \n",
    "            42:'End no passing veh > 3.5 tons' }"
   ]
  },
  {
   "cell_type": "code",
   "execution_count": 21,
   "id": "e3179889",
   "metadata": {},
   "outputs": [],
   "source": [
    "from PIL import Image\n",
    "import numpy as np\n",
    "import matplotlib.pyplot as plt\n",
    "def test_on_img(img):\n",
    "    data=[]\n",
    "    image = Image.open(img)\n",
    "    image = image.resize((30,30))\n",
    "    data.append(np.array(image))\n",
    "    X_test=np.array(data)\n",
    "    Y_pred = model.predict(X_test)\n",
    "    Y_pred_classes = Y_pred.argmax(axis=-1)\n",
    "    return image,Y_pred_classes"
   ]
  },
  {
   "cell_type": "code",
   "execution_count": 22,
   "id": "2b0566f1",
   "metadata": {},
   "outputs": [
    {
     "name": "stdout",
     "output_type": "stream",
     "text": [
      "1/1 [==============================] - 0s 45ms/step\n",
      "Predicted traffic sign is:  Turn left ahead\n"
     ]
    },
    {
     "data": {
      "image/png": "[encoded data removed]",
      "text/plain": [
       "<Figure size 640x480 with 1 Axes>"
      ]
     },
     "metadata": {},
     "output_type": "display_data"
    }
   ],
   "source": [
    "plot,prediction = test_on_img(r'C:\\Users\\prajw\\Trial4\\Test\\00032.png')\n",
    "s = [str(i) for i in prediction] \n",
    "a = int(\"\".join(s)) \n",
    "print(\"Predicted traffic sign is: \", classes[a])\n",
    "plt.imshow(plot)\n",
    "plt.show()"
   ]
  },
  {
   "cell_type": "code",
   "execution_count": 23,
   "id": "9da90b96",
   "metadata": {},
   "outputs": [
    {
     "name": "stdout",
     "output_type": "stream",
     "text": [
      "395/395 [==============================] - 3s 7ms/step\n",
      "F1 score: 0.9535919828217403\n"
     ]
    }
   ],
   "source": [
    "from sklearn.metrics import f1_score\n",
    "\n",
    "y_pred = model.predict(X_test)\n",
    "y_pred_classes = np.argmax(y_pred, axis=1)\n",
    "f1score = f1_score(label, y_pred_classes, average='weighted')\n",
    "print('F1 score:', f1score)\n"
   ]
  },
  {
   "cell_type": "code",
   "execution_count": null,
   "id": "266eba59",
   "metadata": {},
   "outputs": [],
   "source": []
  }
 ],
 "metadata": {
  "kernelspec": {
   "display_name": "Python 3 (ipykernel)",
   "language": "python",
   "name": "python3"
  },
  "language_info": {
   "codemirror_mode": {
    "name": "ipython",
    "version": 3
   },
   "file_extension": ".py",
   "mimetype": "text/x-python",
   "name": "python",
   "nbconvert_exporter": "python",
   "pygments_lexer": "ipython3",
   "version": "3.10.11"
  }
 },
 "nbformat": 4,
 "nbformat_minor": 5
}
