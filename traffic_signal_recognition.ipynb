{
 "cells": [
  {
   "cell_type": "markdown",
   "id": "9d00f91f",
   "metadata": {},
   "source": [
    "Import Libraries"
   ]
  },
  {
   "cell_type": "code",
   "execution_count": 1,
   "id": "39356b18",
   "metadata": {},
   "outputs": [],
   "source": [
    "import numpy as np \n",
    "import pandas as pd \n",
    "import matplotlib.pyplot as plt\n",
    "import cv2\n",
    "import tensorflow as tf\n",
    "from PIL import Image\n",
    "import os\n",
    "os.chdir('C:/Users/prajw/Trial3')\n",
    "from sklearn.model_selection import train_test_split\n",
    "from keras.utils import to_categorical\n",
    "from keras.models import Sequential, load_model\n",
    "from keras.layers import Conv2D, MaxPool2D, Dense, Flatten, Dropout"
   ]
  },
  {
   "cell_type": "markdown",
   "id": "3c085387",
   "metadata": {},
   "source": [
    "Store data, labels in the list"
   ]
  },
  {
   "cell_type": "code",
   "execution_count": 2,
   "id": "858722c0",
   "metadata": {},
   "outputs": [],
   "source": [
    "data = []\n",
    "labels = []\n",
    "# We have 43 Classes\n",
    "classes = 43\n",
    "cur_path = os.getcwd()"
   ]
  },
  {
   "cell_type": "code",
   "execution_count": 3,
   "id": "9d2fa8a0",
   "metadata": {},
   "outputs": [
    {
     "data": {
      "text/plain": [
       "'C:\\\\Users\\\\prajw\\\\Trial3'"
      ]
     },
     "execution_count": 3,
     "metadata": {},
     "output_type": "execute_result"
    }
   ],
   "source": [
    "cur_path"
   ]
  },
  {
   "cell_type": "markdown",
   "id": "d8a2d337",
   "metadata": {},
   "source": [
    "Image Preprocessing"
   ]
  },
  {
   "cell_type": "code",
   "execution_count": 4,
   "id": "8367f4cb",
   "metadata": {},
   "outputs": [],
   "source": [
    "for i in range(classes):\n",
    "    path = os.path.join(cur_path,'train',str(i))\n",
    "    images = os.listdir(path)\n",
    "    for a in images:\n",
    "        try:\n",
    "            image = Image.open(path + '\\\\'+ a)\n",
    "            image = image.resize((30,30))\n",
    "            image = np.array(image)\n",
    "            data.append(image)\n",
    "            labels.append(i)\n",
    "        except Exception as e:\n",
    "            print(e)"
   ]
  },
  {
   "cell_type": "markdown",
   "id": "d8e8b932",
   "metadata": {},
   "source": [
    "Convert list into numpy arrays"
   ]
  },
  {
   "cell_type": "code",
   "execution_count": 5,
   "id": "152c197b",
   "metadata": {},
   "outputs": [],
   "source": [
    "data = np.array(data)\n",
    "labels = np.array(labels)"
   ]
  },
  {
   "cell_type": "markdown",
   "id": "8504960b",
   "metadata": {},
   "source": [
    "Make directory with the name \"training\""
   ]
  },
  {
   "cell_type": "code",
   "execution_count": 6,
   "id": "fc8a55be",
   "metadata": {},
   "outputs": [],
   "source": [
    "os.mkdir('training')"
   ]
  },
  {
   "cell_type": "markdown",
   "id": "0d88cac2",
   "metadata": {},
   "source": [
    "Saving data for future"
   ]
  },
  {
   "cell_type": "code",
   "execution_count": 7,
   "id": "84beee65",
   "metadata": {},
   "outputs": [],
   "source": [
    "np.save('./training/data',data)\n",
    "np.save('./training/target',labels)"
   ]
  },
  {
   "cell_type": "markdown",
   "id": "f67b8319",
   "metadata": {},
   "source": [
    "Load data & Labels"
   ]
  },
  {
   "cell_type": "code",
   "execution_count": 8,
   "id": "05962931",
   "metadata": {},
   "outputs": [],
   "source": [
    "data=np.load('./training/data.npy')\n",
    "labels=np.load('./training/target.npy')"
   ]
  },
  {
   "cell_type": "code",
   "execution_count": 9,
   "id": "2ce5f853",
   "metadata": {},
   "outputs": [
    {
     "name": "stdout",
     "output_type": "stream",
     "text": [
      "(39209, 30, 30, 3) (39209,)\n"
     ]
    }
   ],
   "source": [
    "print(data.shape, labels.shape)"
   ]
  },
  {
   "cell_type": "code",
   "execution_count": 10,
   "id": "851ab01b",
   "metadata": {},
   "outputs": [],
   "source": [
    "X_train, X_test, y_train, y_test = train_test_split(data, labels, test_size=0.2, random_state=0)"
   ]
  },
  {
   "cell_type": "code",
   "execution_count": 11,
   "id": "4abdbf99",
   "metadata": {},
   "outputs": [
    {
     "name": "stdout",
     "output_type": "stream",
     "text": [
      "(31367, 30, 30, 3) (7842, 30, 30, 3) (31367,) (7842,)\n"
     ]
    }
   ],
   "source": [
    "print(X_train.shape, X_test.shape, y_train.shape, y_test.shape)"
   ]
  },
  {
   "cell_type": "markdown",
   "id": "5173708f",
   "metadata": {},
   "source": [
    "Convert labels to onehot encoding"
   ]
  },
  {
   "cell_type": "code",
   "execution_count": 12,
   "id": "10733692",
   "metadata": {},
   "outputs": [],
   "source": [
    "y_train = to_categorical(y_train, 43)\n",
    "y_test = to_categorical(y_test, 43)"
   ]
  },
  {
   "cell_type": "code",
   "execution_count": 13,
   "id": "37540d0d",
   "metadata": {},
   "outputs": [],
   "source": [
    "model = Sequential()\n",
    "model.add(Conv2D(filters=32, kernel_size=(5,5), activation='relu', input_shape=X_train.shape[1:]))\n",
    "model.add(Conv2D(filters=32, kernel_size=(5,5), activation='relu'))\n",
    "model.add(MaxPool2D(pool_size=(2, 2)))\n",
    "model.add(Dropout(rate=0.25))\n",
    "model.add(Conv2D(filters=64, kernel_size=(3, 3), activation='relu'))\n",
    "model.add(Conv2D(filters=64, kernel_size=(3, 3), activation='relu'))\n",
    "model.add(MaxPool2D(pool_size=(2, 2)))\n",
    "model.add(Dropout(rate=0.25))\n",
    "model.add(Flatten())\n",
    "model.add(Dense(256, activation='relu'))\n",
    "model.add(Dropout(rate=0.5))\n",
    "# We have 43 classes that's why we have defined 43 in the dense\n",
    "model.add(Dense(43, activation='softmax'))"
   ]
  },
  {
   "cell_type": "code",
   "execution_count": 14,
   "id": "f50c0fdf",
   "metadata": {},
   "outputs": [],
   "source": [
    "#Compilation of the model\n",
    "model.compile(loss='categorical_crossentropy', optimizer='adam', metrics=['accuracy'])"
   ]
  },
  {
   "cell_type": "code",
   "execution_count": 15,
   "id": "7f69d610",
   "metadata": {},
   "outputs": [
    {
     "name": "stdout",
     "output_type": "stream",
     "text": [
      "Epoch 1/35\n",
      "981/981 [==============================] - 46s 46ms/step - loss: 1.9965 - accuracy: 0.4887 - val_loss: 0.5727 - val_accuracy: 0.8633\n",
      "Epoch 2/35\n",
      "981/981 [==============================] - 45s 46ms/step - loss: 0.7405 - accuracy: 0.7840 - val_loss: 0.2687 - val_accuracy: 0.9204\n",
      "Epoch 3/35\n",
      "981/981 [==============================] - 46s 47ms/step - loss: 0.5065 - accuracy: 0.8519 - val_loss: 0.1865 - val_accuracy: 0.9470\n",
      "Epoch 4/35\n",
      "981/981 [==============================] - 44s 45ms/step - loss: 0.4005 - accuracy: 0.8832 - val_loss: 0.1814 - val_accuracy: 0.9500\n",
      "Epoch 5/35\n",
      "981/981 [==============================] - 45s 46ms/step - loss: 0.3286 - accuracy: 0.9041 - val_loss: 0.1061 - val_accuracy: 0.9702\n",
      "Epoch 6/35\n",
      "981/981 [==============================] - 47s 48ms/step - loss: 0.2894 - accuracy: 0.9170 - val_loss: 0.1109 - val_accuracy: 0.9693\n",
      "Epoch 7/35\n",
      "981/981 [==============================] - 47s 48ms/step - loss: 0.2804 - accuracy: 0.9190 - val_loss: 0.0873 - val_accuracy: 0.9744\n",
      "Epoch 8/35\n",
      "981/981 [==============================] - 45s 46ms/step - loss: 0.2487 - accuracy: 0.9294 - val_loss: 0.0896 - val_accuracy: 0.9756\n",
      "Epoch 9/35\n",
      "981/981 [==============================] - 46s 46ms/step - loss: 0.2375 - accuracy: 0.9336 - val_loss: 0.0742 - val_accuracy: 0.9793\n",
      "Epoch 10/35\n",
      "981/981 [==============================] - 45s 46ms/step - loss: 0.2245 - accuracy: 0.9341 - val_loss: 0.1068 - val_accuracy: 0.9698\n",
      "Epoch 11/35\n",
      "981/981 [==============================] - 45s 46ms/step - loss: 0.2332 - accuracy: 0.9336 - val_loss: 0.0682 - val_accuracy: 0.9816\n",
      "Epoch 12/35\n",
      "981/981 [==============================] - 48s 48ms/step - loss: 0.2127 - accuracy: 0.9413 - val_loss: 0.0580 - val_accuracy: 0.9838\n",
      "Epoch 13/35\n",
      "981/981 [==============================] - 45s 46ms/step - loss: 0.2261 - accuracy: 0.9393 - val_loss: 0.0681 - val_accuracy: 0.9800\n",
      "Epoch 14/35\n",
      "981/981 [==============================] - 43s 44ms/step - loss: 0.1923 - accuracy: 0.9467 - val_loss: 0.0721 - val_accuracy: 0.9810\n",
      "Epoch 15/35\n",
      "981/981 [==============================] - 41s 42ms/step - loss: 0.2102 - accuracy: 0.9424 - val_loss: 0.0513 - val_accuracy: 0.9871\n",
      "Epoch 16/35\n",
      "981/981 [==============================] - 42s 43ms/step - loss: 0.2128 - accuracy: 0.9441 - val_loss: 0.0645 - val_accuracy: 0.9836\n",
      "Epoch 17/35\n",
      "981/981 [==============================] - 44s 45ms/step - loss: 0.2020 - accuracy: 0.9466 - val_loss: 0.1236 - val_accuracy: 0.9652\n",
      "Epoch 18/35\n",
      "981/981 [==============================] - 47s 47ms/step - loss: 0.1777 - accuracy: 0.9524 - val_loss: 0.0482 - val_accuracy: 0.9883\n",
      "Epoch 19/35\n",
      "981/981 [==============================] - 45s 46ms/step - loss: 0.2038 - accuracy: 0.9465 - val_loss: 0.0572 - val_accuracy: 0.9853\n",
      "Epoch 20/35\n",
      "981/981 [==============================] - 47s 47ms/step - loss: 0.1906 - accuracy: 0.9505 - val_loss: 0.0606 - val_accuracy: 0.9856\n",
      "Epoch 21/35\n",
      "981/981 [==============================] - 46s 47ms/step - loss: 0.2045 - accuracy: 0.9467 - val_loss: 0.0601 - val_accuracy: 0.9861\n",
      "Epoch 22/35\n",
      "981/981 [==============================] - 45s 46ms/step - loss: 0.2120 - accuracy: 0.9459 - val_loss: 0.0485 - val_accuracy: 0.9862\n",
      "Epoch 23/35\n",
      "981/981 [==============================] - 45s 46ms/step - loss: 0.2192 - accuracy: 0.9436 - val_loss: 0.0595 - val_accuracy: 0.9844\n",
      "Epoch 24/35\n",
      "981/981 [==============================] - 45s 46ms/step - loss: 0.1819 - accuracy: 0.9533 - val_loss: 0.0515 - val_accuracy: 0.9866\n",
      "Epoch 25/35\n",
      "981/981 [==============================] - 45s 46ms/step - loss: 0.1898 - accuracy: 0.9521 - val_loss: 0.0897 - val_accuracy: 0.9751\n",
      "Epoch 26/35\n",
      "981/981 [==============================] - 45s 46ms/step - loss: 0.2218 - accuracy: 0.9455 - val_loss: 0.0640 - val_accuracy: 0.9838\n",
      "Epoch 27/35\n",
      "981/981 [==============================] - 45s 45ms/step - loss: 0.2054 - accuracy: 0.9485 - val_loss: 0.0407 - val_accuracy: 0.9902\n",
      "Epoch 28/35\n",
      "981/981 [==============================] - 46s 47ms/step - loss: 0.1986 - accuracy: 0.9492 - val_loss: 0.1151 - val_accuracy: 0.9717\n",
      "Epoch 29/35\n",
      "981/981 [==============================] - 45s 46ms/step - loss: 0.2364 - accuracy: 0.9426 - val_loss: 0.0594 - val_accuracy: 0.9842\n",
      "Epoch 30/35\n",
      "981/981 [==============================] - 45s 45ms/step - loss: 0.2078 - accuracy: 0.9494 - val_loss: 0.0783 - val_accuracy: 0.9801\n",
      "Epoch 31/35\n",
      "981/981 [==============================] - 45s 46ms/step - loss: 0.2082 - accuracy: 0.9481 - val_loss: 0.0733 - val_accuracy: 0.9828\n",
      "Epoch 32/35\n",
      "981/981 [==============================] - 45s 46ms/step - loss: 0.1989 - accuracy: 0.9531 - val_loss: 0.0672 - val_accuracy: 0.9839\n",
      "Epoch 33/35\n",
      "981/981 [==============================] - 45s 46ms/step - loss: 0.2383 - accuracy: 0.9424 - val_loss: 0.0539 - val_accuracy: 0.9881\n",
      "Epoch 34/35\n",
      "981/981 [==============================] - 45s 46ms/step - loss: 0.2118 - accuracy: 0.9522 - val_loss: 0.1223 - val_accuracy: 0.9667\n",
      "Epoch 35/35\n",
      "981/981 [==============================] - 46s 46ms/step - loss: 0.2157 - accuracy: 0.9480 - val_loss: 0.0426 - val_accuracy: 0.9893\n"
     ]
    }
   ],
   "source": [
    "epochs = 35\n",
    "history = model.fit(X_train, y_train, batch_size=32, epochs=epochs, validation_data=(X_test, y_test))"
   ]
  },
  {
   "cell_type": "code",
   "execution_count": 16,
   "id": "ea80f65e",
   "metadata": {},
   "outputs": [
    {
     "data": {
      "image/png": "[encoded data removed]",
      "text/plain": [
       "<Figure size 640x480 with 1 Axes>"
      ]
     },
     "metadata": {},
     "output_type": "display_data"
    }
   ],
   "source": [
    "# accuracy \n",
    "plt.figure(0)\n",
    "plt.plot(history.history['accuracy'], label='training accuracy')\n",
    "plt.plot(history.history['val_accuracy'], label='val accuracy')\n",
    "plt.title('Accuracy')\n",
    "plt.xlabel('epochs')\n",
    "plt.ylabel('accuracy')\n",
    "plt.legend()\n",
    "plt.show()"
   ]
  },
  {
   "cell_type": "code",
   "execution_count": 17,
   "id": "cd66a48e",
   "metadata": {},
   "outputs": [
    {
     "data": {
      "image/png": "[encoded data removed]",
      "text/plain": [
       "<Figure size 640x480 with 1 Axes>"
      ]
     },
     "metadata": {},
     "output_type": "display_data"
    }
   ],
   "source": [
    "# Loss\n",
    "plt.plot(history.history['loss'], label='training loss')\n",
    "plt.plot(history.history['val_loss'], label='val loss')\n",
    "plt.title('Loss')\n",
    "plt.xlabel('epochs')\n",
    "plt.ylabel('loss')\n",
    "plt.legend()\n",
    "plt.show()"
   ]
  },
  {
   "cell_type": "code",
   "execution_count": 18,
   "id": "979f4556",
   "metadata": {},
   "outputs": [],
   "source": [
    "def testing(testcsv):\n",
    "    y_test = pd.read_csv(testcsv)\n",
    "    label = y_test[\"ClassId\"].values\n",
    "    imgs = y_test[\"Path\"].values\n",
    "    data=[]\n",
    "    for img in imgs:\n",
    "        image = Image.open(img)\n",
    "        image = image.resize((30,30))\n",
    "        data.append(np.array(image))\n",
    "    X_test=np.array(data)\n",
    "    return X_test,label"
   ]
  },
  {
   "cell_type": "code",
   "execution_count": 19,
   "id": "a64b3966",
   "metadata": {},
   "outputs": [],
   "source": [
    "X_test, label = testing('Test.csv')"
   ]
  },
  {
   "cell_type": "code",
   "execution_count": 20,
   "id": "6fb7e799",
   "metadata": {},
   "outputs": [
    {
     "name": "stdout",
     "output_type": "stream",
     "text": [
      "395/395 [==============================] - 3s 8ms/step\n"
     ]
    }
   ],
   "source": [
    "Y_pred = model.predict(X_test)\n",
    "Y_pred_classes = Y_pred.argmax(axis=-1)\n"
   ]
  },
  {
   "cell_type": "code",
   "execution_count": 21,
   "id": "edb19f8e",
   "metadata": {},
   "outputs": [
    {
     "name": "stdout",
     "output_type": "stream",
     "text": [
      "0.9607284243863816\n"
     ]
    }
   ],
   "source": [
    "from sklearn.metrics import accuracy_score\n",
    "print(accuracy_score(label, Y_pred_classes))"
   ]
  },
  {
   "cell_type": "code",
   "execution_count": 22,
   "id": "89ca02a7",
   "metadata": {},
   "outputs": [],
   "source": [
    "model.save(\"./training/TSR.h5\")"
   ]
  },
  {
   "cell_type": "code",
   "execution_count": 2,
   "id": "c54e8b6e",
   "metadata": {},
   "outputs": [],
   "source": [
    "import os\n",
    "os.chdir(r'D:\\Traffic_Sign_Recognition')\n",
    "from keras.models import load_model\n",
    "model = load_model('./training/TSR.h5')"
   ]
  },
  {
   "cell_type": "code",
   "execution_count": 3,
   "id": "79a791c6",
   "metadata": {},
   "outputs": [],
   "source": [
    "# Classes of trafic signs\n",
    "classes = { 0:'Speed limit (20km/h)',\n",
    "            1:'Speed limit (30km/h)', \n",
    "            2:'Speed limit (50km/h)', \n",
    "            3:'Speed limit (60km/h)', \n",
    "            4:'Speed limit (70km/h)', \n",
    "            5:'Speed limit (80km/h)', \n",
    "            6:'End of speed limit (80km/h)', \n",
    "            7:'Speed limit (100km/h)', \n",
    "            8:'Speed limit (120km/h)', \n",
    "            9:'No passing', \n",
    "            10:'No passing veh over 3.5 tons', \n",
    "            11:'Right-of-way at intersection', \n",
    "            12:'Priority road', \n",
    "            13:'Yield', \n",
    "            14:'Stop', \n",
    "            15:'No vehicles', \n",
    "            16:'Veh > 3.5 tons prohibited', \n",
    "            17:'No entry', \n",
    "            18:'General caution', \n",
    "            19:'Dangerous curve left', \n",
    "            20:'Dangerous curve right', \n",
    "            21:'Double curve', \n",
    "            22:'Bumpy road', \n",
    "            23:'Slippery road', \n",
    "            24:'Road narrows on the right', \n",
    "            25:'Road work', \n",
    "            26:'Traffic signals', \n",
    "            27:'Pedestrians', \n",
    "            28:'Children crossing', \n",
    "            29:'Bicycles crossing', \n",
    "            30:'Beware of ice/snow',\n",
    "            31:'Wild animals crossing', \n",
    "            32:'End speed + passing limits', \n",
    "            33:'Turn right ahead', \n",
    "            34:'Turn left ahead', \n",
    "            35:'Ahead only', \n",
    "            36:'Go straight or right', \n",
    "            37:'Go straight or left', \n",
    "            38:'Keep right', \n",
    "            39:'Keep left', \n",
    "            40:'Roundabout mandatory', \n",
    "            41:'End of no passing', \n",
    "            42:'End no passing veh > 3.5 tons' }"
   ]
  },
  {
   "cell_type": "code",
   "execution_count": 4,
   "id": "c85fcb8c",
   "metadata": {},
   "outputs": [],
   "source": [
    "from PIL import Image\n",
    "import numpy as np\n",
    "import matplotlib.pyplot as plt\n",
    "def test_on_img(img):\n",
    "    data=[]\n",
    "    image = Image.open(img)\n",
    "    image = image.resize((30,30))\n",
    "    data.append(np.array(image))\n",
    "    X_test=np.array(data)\n",
    "    Y_pred = model.predict(X_test)\n",
    "    Y_pred_classes = Y_pred.argmax(axis=-1)\n",
    "    return image,Y_pred_classes"
   ]
  },
  {
   "cell_type": "code",
   "execution_count": 5,
   "id": "b3bf69af",
   "metadata": {},
   "outputs": [
    {
     "name": "stdout",
     "output_type": "stream",
     "text": [
      "1/1 [==============================] - 0s 95ms/step\n",
      "Predicted traffic sign is:  Turn right ahead\n"
     ]
    },
    {
     "data": {
      "image/png": "[encoded data removed]",
      "text/plain": [
       "<Figure size 640x480 with 1 Axes>"
      ]
     },
     "metadata": {},
     "output_type": "display_data"
    }
   ],
   "source": [
    "plot,prediction = test_on_img(r'C:\\Users\\prajw\\Trial3\\Test\\00108.png')\n",
    "s = [str(i) for i in prediction] \n",
    "a = int(\"\".join(s)) \n",
    "print(\"Predicted traffic sign is: \", classes[a])\n",
    "plt.imshow(plot)\n",
    "plt.show()"
   ]
  },
  {
   "cell_type": "code",
   "execution_count": null,
   "id": "b9104fba",
   "metadata": {},
   "outputs": [],
   "source": []
  }
 ],
 "metadata": {
  "kernelspec": {
   "display_name": "Python 3 (ipykernel)",
   "language": "python",
   "name": "python3"
  },
  "language_info": {
   "codemirror_mode": {
    "name": "ipython",
    "version": 3
   },
   "file_extension": ".py",
   "mimetype": "text/x-python",
   "name": "python",
   "nbconvert_exporter": "python",
   "pygments_lexer": "ipython3",
   "version": "3.10.11"
  }
 },
 "nbformat": 4,
 "nbformat_minor": 5
}
